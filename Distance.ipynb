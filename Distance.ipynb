{
 "cells": [
  {
   "cell_type": "code",
   "execution_count": 67,
   "metadata": {},
   "outputs": [
    {
     "name": "stdin",
     "output_type": "stream",
     "text": [
      "Latitude :  12\n",
      "longitude :  24\n"
     ]
    },
    {
     "name": "stdout",
     "output_type": "stream",
     "text": [
      "{39: 8193.978865928437, 41: 8193.97911500653, 48: 8193.986497834881, 49: 8193.98665898195, 15: 8193.98794277751, 44: 8193.988266183474, 43: 8193.989240742474, 17: 8193.989639167197, 25: 8193.991149493822, 46: 8193.991505753052, 26: 8193.991935820857, 42: 8193.993298534013, 22: 8193.994162542174, 27: 8193.99437371117, 38: 8193.995674414467, 30: 8193.99612246306, 47: 8193.996487416844, 40: 8193.996988474328, 36: 8193.999501925799, 34: 8193.999755263994, 18: 8193.99989415729, 23: 8194.00009342748, 6: 8194.000990245775, 3: 8194.001483728638, 28: 8194.001487482505, 32: 8194.0019822913, 21: 8194.002971376487, 7: 8194.003389392723, 12: 8194.003466658065, 5: 8194.004261310678, 2: 8194.004359404116, 13: 8194.005674874801, 35: 8194.006103949614, 0: 8194.00611204784, 45: 8194.00729819915, 1: 8194.008263904247, 4: 8194.00832602743, 10: 8194.00931191738, 8: 8194.009883959798, 14: 8194.009942610292, 20: 8194.009946387214, 19: 8194.010679707162, 16: 8194.010798553905, 11: 8194.011022851337, 9: 8194.011751809167, 29: 8194.012265995832, 37: 8194.012440061155, 31: 8194.013730341036, 24: 8194.02477325368, 33: 8194.025726767375}\n",
      "                          NAME   LATITUDE  LONGITUDE     DISTANCE\n",
      "0        Intelligentsia Coffee  40.745926 -74.005376  8193.979115\n",
      "1  Irving Farm Coffee Roasters  40.736716 -73.986817  8193.986498\n",
      "2           Joe Coffee Company  40.736515 -73.991070  8193.986659\n",
      "3     Partners Coffee Roasters  40.734913 -74.002051  8193.987943\n",
      "4      Jack's Stir Brew Coffee  40.734510 -74.000620  8193.988266\n"
     ]
    }
   ],
   "source": [
    "import pandas as pd\n",
    "import math\n",
    "\n",
    "\n",
    "\n",
    "df=pd.read_csv(r\"C:\\Users\\MONSTER\\Desktop\\newyorkcoffeewithdetails.csv\",error_bad_lines=False)\n",
    "\n",
    "distance_dict = {}\n",
    "\n",
    "lat_input=float(input(\"Latitude : \")) # User's latitude and longitude\n",
    "lon_input=float(input(\"longitude : \"))\n",
    "\n",
    "\n",
    "for i in range(len(df)): # I take latitutude and longitude for every buisness\n",
    "    \n",
    "    # our latitude and longitude of surroindings\n",
    "    lat = math.radians(df[\"location.lat\"].iloc[i])\n",
    "    lon = math.radians(df[\"location.lng\"].iloc[i])\n",
    "    \n",
    "    R = 6373.0  # Diameter of earth\n",
    "    \n",
    "    distance_lon = lon2 - lon1\n",
    "    distance_lat = lat2 - lat1\n",
    "    \n",
    "    #Haversine Formula for finding distance between two geographical locations in earth\n",
    "    \n",
    "    a = math.sin(distance_lat/ 2)**2 + math.cos(lat_input) * math.cos(lat) * math.sin(distance_lon / 2)**2\n",
    "    c = 2 * math.atan2(math.sqrt(a), math.sqrt(1 - a))\n",
    "    \n",
    "    distance = R * c\n",
    "    \n",
    "    distance_dict[i]=distance\n",
    "    \n",
    "sorted_values = sorted(distance_dict.values()) # Sort the values\n",
    "sorted_distance_dict = {}\n",
    "\n",
    "# I sort my dictionary in terms of values from small to big\n",
    "for i in sorted_values:\n",
    "    for k in distance_dict.keys():\n",
    "        if distance_dict[k] == i:\n",
    "            sorted_distance_dict[k] = i\n",
    "            break\n",
    "\n",
    "print(sorted_distance_dict)\n",
    "\n",
    "location_stats = pd.DataFrame(columns=[\"NAME\",\"LATITUDE\",\"LONGITUDE\",\"DISTANCE\"])\n",
    "\n",
    "index_number_list = []\n",
    "distances_list = []\n",
    "\n",
    "for i in range(1,6):\n",
    "    index_number_list.append(list(sorted_distance_dict.keys())[i])\n",
    "    distances_list.append(sorted_distance_dict[list(sorted_distance_dict.keys())[i]])\n",
    "\n",
    "\n",
    "for j in range(len(distances_list)):\n",
    "    location_stats=location_stats.append({\"LATITUDE\":df[\"location.lat\"].iloc[index_number_list[j]],\"LONGITUDE\":df[\"location.lng\"].iloc[index_number_list[j]],\"NAME\": df[\"name\"].iloc[index_number_list[j]],\"DISTANCE\": distances_list[j]},ignore_index =True)\n",
    "\n",
    "\n",
    "print(location_stats.head())\n",
    "\n",
    " "
   ]
  },
  {
   "cell_type": "code",
   "execution_count": null,
   "metadata": {},
   "outputs": [],
   "source": []
  }
 ],
 "metadata": {
  "kernelspec": {
   "display_name": "Python 3",
   "language": "python",
   "name": "python3"
  },
  "language_info": {
   "codemirror_mode": {
    "name": "ipython",
    "version": 3
   },
   "file_extension": ".py",
   "mimetype": "text/x-python",
   "name": "python",
   "nbconvert_exporter": "python",
   "pygments_lexer": "ipython3",
   "version": "3.7.6"
  }
 },
 "nbformat": 4,
 "nbformat_minor": 4
}
