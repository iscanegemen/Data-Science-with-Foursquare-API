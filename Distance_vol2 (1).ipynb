{
 "cells": [
  {
   "cell_type": "code",
   "execution_count": 1,
   "metadata": {},
   "outputs": [
    {
     "name": "stdout",
     "output_type": "stream",
     "text": [
      "Latitude : 12\n",
      "longitude : 24\n",
      "{33: 8188.478401702761, 24: 8188.758949380858, 31: 8190.518471923579, 29: 8190.680151176204, 37: 8190.686432510951, 9: 8190.725107529862, 16: 8190.825556704661, 11: 8190.892960896965, 19: 8190.902311858297, 20: 8190.91695298235, 14: 8190.941351410662, 8: 8191.002901997151, 10: 8191.068624380842, 4: 8191.2132314320015, 1: 8191.245604461404, 45: 8191.324126972046, 21: 8191.375716431701, 35: 8191.484639906866, 13: 8191.54719934606, 28: 8191.575574635604, 0: 8191.592404426975, 5: 8191.696159364878, 2: 8191.738784539601, 7: 8191.904460387836, 12: 8191.915244328925, 3: 8192.044407850568, 32: 8192.103653732041, 23: 8192.110394824436, 6: 8192.125821411608, 36: 8192.281990425545, 18: 8192.325669976151, 34: 8192.337194734286, 40: 8192.569559575117, 47: 8192.713625076009, 30: 8192.723623240841, 38: 8192.762486088308, 22: 8192.93733838541, 27: 8192.982114550605, 46: 8193.198699837883, 42: 8193.246592912004, 26: 8193.3603700903, 25: 8193.395165095608, 17: 8193.6579349743, 43: 8193.797464624638, 44: 8193.877665539118, 15: 8193.938880002195, 48: 8193.959018309552, 49: 8193.98665898195, 39: 8195.137829892737, 41: 8195.190869456832}\n",
      "                               NAME   LATITUDE  LONGITUDE     DISTANCE\n",
      "0         Stumptown Coffee Roasters  40.688942 -73.992141  8188.758949\n",
      "1     2 Water Street Coffee Station  40.702730 -74.012663  8190.518472\n",
      "2  Periscope Coffee On Pearl Street  40.704558 -74.009284  8190.680151\n",
      "3                   Gregorys Coffee  40.704341 -74.011857  8190.686433\n",
      "4                   Gregorys Coffee  40.705200 -74.007090  8190.725108\n"
     ]
    }
   ],
   "source": [
    "import pandas as pd\n",
    "import math\n",
    "\n",
    "\n",
    "df=pd.read_csv(r\"C:\\Users\\MONSTER\\Desktop\\newyorkcoffeewithdetails.csv\",error_bad_lines=False) #I read my data from newyorkcoffeewithdetails.csv\n",
    "\n",
    "distance_dict = {} # I create empty dictionary to match my company indexes with their distance of our user's new business\n",
    "\n",
    "lat_input=float(input(\"Latitude : \")) # User's latitude and longitude\n",
    "lon_input=float(input(\"longitude : \"))\n",
    "\n",
    "\n",
    "for i in range(len(df)): # I take latitutude and longitude for every buisness\n",
    "    \n",
    "    # our latitude and longitude of surroindings\n",
    "    lat = math.radians(df[\"location.lat\"].iloc[i])\n",
    "    lon = math.radians(df[\"location.lng\"].iloc[i])\n",
    "    \n",
    "    R = 6373.0  # Diameter of earth\n",
    "    \n",
    "    distance_lon = lon - lon_input\n",
    "    distance_lat = lat - lat_input\n",
    "    \n",
    "    #Haversine Formula for finding distance between two geographical locations in earth \n",
    "    #(Haversine assumes that earth is sphere but it gives a little error with respect to geoid shape of earth)\n",
    "    \n",
    "    a = math.sin(distance_lat/ 2)**2 + math.cos(lat_input) * math.cos(lat) * math.sin(distance_lon / 2)**2\n",
    "    c = 2 * math.atan2(math.sqrt(a), math.sqrt(1 - a))\n",
    "    \n",
    "    distance = R * c\n",
    "    \n",
    "    distance_dict[i]=distance\n",
    "    \n",
    "sorted_values = sorted(distance_dict.values()) # I sort my values which is distances of other business' with respect to our user's business\n",
    "sorted_distance_dict = {}\n",
    "\n",
    "# I sort my dictionary in terms of values from small to big\n",
    "for i in sorted_values:\n",
    "    for k in distance_dict.keys():\n",
    "        if distance_dict[k] == i:\n",
    "            sorted_distance_dict[k] = i\n",
    "            break\n",
    "\n",
    "location_stats = pd.DataFrame(columns=[\"NAME\",\"LATITUDE\",\"LONGITUDE\",\"DISTANCE\"])\n",
    "\n",
    "index_number_list = [] # For easiness I seperate index value of business at data and their distances to our user's business with different lists \n",
    "distances_list = [] \n",
    "\n",
    "for i in range(1,6):\n",
    "    index_number_list.append(list(sorted_distance_dict.keys())[i])\n",
    "    distances_list.append(sorted_distance_dict[list(sorted_distance_dict.keys())[i]])\n",
    "\n",
    "# And with for loop we append necessary informations about 5 closest businesses to our user's business at the related columns in our dataframe  \n",
    "for j in range(len(distances_list)):\n",
    "    location_stats=location_stats.append({\"LATITUDE\":df[\"location.lat\"].iloc[index_number_list[j]],\"LONGITUDE\":df[\"location.lng\"].iloc[index_number_list[j]],\"NAME\": df[\"name\"].iloc[index_number_list[j]],\"DISTANCE\": distances_list[j]},ignore_index =True)\n",
    "\n",
    "# F\n",
    "print(location_stats.head())\n",
    "\n",
    " "
   ]
  },
  {
   "cell_type": "code",
   "execution_count": null,
   "metadata": {},
   "outputs": [],
   "source": []
  }
 ],
 "metadata": {
  "kernelspec": {
   "display_name": "Python 3",
   "language": "python",
   "name": "python3"
  },
  "language_info": {
   "codemirror_mode": {
    "name": "ipython",
    "version": 3
   },
   "file_extension": ".py",
   "mimetype": "text/x-python",
   "name": "python",
   "nbconvert_exporter": "python",
   "pygments_lexer": "ipython3",
   "version": "3.7.6"
  }
 },
 "nbformat": 4,
 "nbformat_minor": 4
}
