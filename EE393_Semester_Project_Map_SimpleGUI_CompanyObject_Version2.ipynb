{
 "cells": [
  {
   "cell_type": "markdown",
   "metadata": {},
   "source": [
    "| Name  | Surname   | Student No  | Department  |\n",
    "|---|---|---|---|\n",
    "| Emin  | Kartci  | S014877  | EE Engineering  |"
   ]
  },
  {
   "cell_type": "markdown",
   "metadata": {},
   "source": [
    "## Emin Kartci\n",
    "#### Student ID: S014877\n",
    "#### Department  : Electrical & Electronics Engineering\n",
    "---\n",
    "### Semester Project - Foursquare & Restaurant Report\n",
    "---\n",
    "#### This module is prepared for GUI\n",
    "---\n",
    "\n"
   ]
  },
  {
   "cell_type": "code",
   "execution_count": 36,
   "metadata": {},
   "outputs": [],
   "source": [
    "# To interact with user use ipywidgets library - Generate a simple GUI\n",
    "from __future__ import print_function\n",
    "from ipywidgets import interact, interactive, fixed, interact_manual\n",
    "import ipywidgets as widgets"
   ]
  },
  {
   "cell_type": "code",
   "execution_count": 37,
   "metadata": {},
   "outputs": [],
   "source": [
    "################################-- Function Description --#################################\n",
    "\n",
    "# Purpose:\n",
    "#       This class represents a company. For other modules we will need its values.\n",
    "#    Moreover, creating a class makes simple our code.\n",
    "\n",
    "# PROPERTIES:\n",
    "#   \n",
    "#   From constructor:\n",
    "#   name                -> Name of the company                (String)\n",
    "#   longitude           -> To represent at the map            (String)\n",
    "#   latitude            -> To represent at the map            (String)\n",
    "#   servicesList        -> To compare with others             (List)\n",
    "#   averagePrice        -> For income statement - Simulation  (Float)\n",
    "#   averageUnitCost     -> For incoma statement - Simulation  (Float)\n",
    "#   salesVolume         -> For incoma statement - Simulation  (Float)\n",
    "#   fixedCost           -> For incoma statement - Simulation  (Float)\n",
    "#   taxRate             -> For incoma statement - Simulation  (Float)\n",
    "#\n",
    "#   Calculate:\n",
    "#\n",
    "#   contributionMargin  -> For incoma statement - Simulation  (Float)\n",
    "#   revenue             -> For incoma statement - Simulation  (Float)\n",
    "#   costOfGoodSold      -> For incoma statement - Simulation  (Float)\n",
    "#   grossMargin         -> For incoma statement - Simulation  (Float)\n",
    "#   taxes               -> For incoma statement - Simulation  (Float)\n",
    "#   netIncome           -> For incoma statement - Simulation  (Float)\n",
    "#\n",
    "\n",
    "\n",
    "# BEHAVIOUR:\n",
    "#   \n",
    "#   print_company_description -> prints the company inputs to the console\n",
    "#   print_income_statement    -> prints the income statemnt to the console\n",
    "\n",
    "#################################-- END Function Description --##############################\n",
    "\n",
    "\n",
    "# Create a Company class\n",
    "class Company():\n",
    "    \n",
    "    # Constuctor\n",
    "    def __init__(self, name,longitude,latitude,servicesList,averagePrice,averageUnitCost,salesVolume,fixedCost,taxRate):\n",
    "        \n",
    "        \n",
    "        \n",
    "        self.name            = name\n",
    "        self.longitude       = longitude\n",
    "        self.latitude        = latitude\n",
    "        self.servicesList    = servicesList\n",
    "        \n",
    "        self.averagePrice    = averagePrice\n",
    "        self.averageUnitCost = averageUnitCost\n",
    "        self.salesVolume     = salesVolume\n",
    "        self.fixedCost       = fixedCost\n",
    "        self.taxRate         = taxRate/100\n",
    "        \n",
    "        # calculate remain properties\n",
    "        self.contributionMargin   = self.calculate_contribution_margin()\n",
    "        self.revenue              = self.calculate_revenue()\n",
    "        self.costOfGoodSold       = self.calculate_COGS()\n",
    "        self.totalCost            = self.calculate_total_cost()\n",
    "        self.grossMargin          = self.calculate_gross_margin()\n",
    "        self.taxes                = self.calculate_taxes()\n",
    "        self.netIncome            = self.calculate_net_income()\n",
    "        \n",
    "        \n",
    "        \n",
    "    def calculate_contribution_margin(self):\n",
    "        \n",
    "        return self.averagePrice - self.averageUnitCost\n",
    "    \n",
    "    def calculate_revenue(self):\n",
    "        \n",
    "        return self.averagePrice * self.salesVolume\n",
    "    \n",
    "    def calculate_COGS(self):\n",
    "        \n",
    "        return self.salesVolume * self.averageUnitCost\n",
    "    \n",
    "    def calculate_gross_margin(self):\n",
    "    \n",
    "        return self.revenue - self.costOfGoodSold\n",
    "    \n",
    "    def calculate_taxes(self):\n",
    "    \n",
    "        return self.grossMargin * self.taxRate\n",
    "    \n",
    "    def calculate_net_income(self):\n",
    "    \n",
    "        return self.grossMargin - self.taxes\n",
    "    \n",
    "    def calculate_total_cost(self):\n",
    "    \n",
    "        return self.costOfGoodSold + self.fixedCost\n",
    "    \n",
    "    \n",
    "    ########################################################################\n",
    "    \n",
    "    def print_company_description(self):\n",
    "        \n",
    "        companyDescription = \"\"\"\n",
    "            \n",
    "            Company Name: {}\n",
    "            \n",
    "            Location:\n",
    "                - Longitude : {}° N\n",
    "                - Latitude  : {}° E\n",
    "                \n",
    "            Services:\n",
    "                {}\n",
    "            Average Price      : {}\n",
    "            Average Unit Cost  : {}\n",
    "            \n",
    "            Sales Volume       : {}\n",
    "            \n",
    "            Fixed Cost         : {}\n",
    "            \n",
    "            Tax Rate           : {}\n",
    "            \n",
    "        \n",
    "        \"\"\".format(self.name,self.longitude,self.latitude,self.set_services_string(),self.averagePrice,self.averageUnitCost,self.salesVolume,self.fixedCost,self.taxRate)\n",
    "        \n",
    "        print(companyDescription)\n",
    "        \n",
    "    def set_services_string(self):\n",
    "        \n",
    "        \n",
    "        serviesString = \"\"\n",
    "        \n",
    "        for index in range(1,len(self.servicesList)+1):\n",
    "            \n",
    "            serviesString += \"{} - {}\\n\\t\\t\".format(index,self.servicesList[index-1])\n",
    "            \n",
    "            \n",
    "        return serviesString\n",
    "    \n",
    "    def print_income_statement(self):\n",
    "        \n",
    "        incomeStatementStr = \"\"\"\n",
    "        \n",
    "                    ==========  {}'s MONTHLY INCOME STATEMENT  ==========\n",
    "                   +------------------------------------------------------\n",
    "                   | Unit Price    : {}\n",
    "                   | Unit Cost     : {}\n",
    "                   +------------------\n",
    "                   | Contribution Margin : {}\n",
    "                   | Sales Volume        : {}\n",
    "                   | Revenue             : {} (Monthly)\n",
    "                   +------------------\n",
    "                   | Cost of Goods Sold  : {} (Monthly)\n",
    "                   | Total Fixed Cost    : {} (Monthly)\n",
    "                   | Total Cost          : {}\n",
    "                   +------------------\n",
    "                   | Gross Margin        : {}\n",
    "                   | Taxes               : {}\n",
    "                   +------------------\n",
    "                   | NET INCOME          : {}\n",
    "                   +------------------------------------------------------\n",
    "                    \n",
    "                    \n",
    "        \"\"\".format(self.name,self.averagePrice,self.averageUnitCost,self.contributionMargin,self.salesVolume,self.revenue\n",
    "                   ,self.costOfGoodSold,self.fixedCost,self.totalCost,self.grossMargin,self.taxes,self.netIncome)\n",
    "        \n",
    "        print(incomeStatementStr)\n",
    "    \n",
    "    \n",
    "    "
   ]
  },
  {
   "cell_type": "code",
   "execution_count": 38,
   "metadata": {},
   "outputs": [],
   "source": [
    "programLabel = widgets.Label('-------------------------->  RESTAURANT SIMULATOR PROGRAM  <--------------------------', layout=widgets.Layout(width='100%'))\n",
    "\n",
    "companyName = widgets.Text(description=\"Comp. Name\",value=\"Example LTD\",layout=widgets.Layout(width=\"50%\"))\n",
    "longitude = widgets.Text(description=\"Longitude\",value=\"48.8566\",layout=widgets.Layout(width=\"30%\"))\n",
    "latitude = widgets.Text(description=\"Latitude\",value=\"2.3522\",layout=widgets.Layout(width=\"30%\"))\n",
    "\n",
    "br1Label = widgets.Label('-----------------------------------------------------------------------------------------------------', layout=widgets.Layout(width='100%'))\n",
    "\n",
    "servicesLabel = widgets.Label('Select Services:', layout=widgets.Layout(width='100%'))\n",
    "Dessertbox = widgets.Checkbox(False, description='Dessert')\n",
    "Saladbox = widgets.Checkbox(False, description='Salad')\n",
    "Drinkbox = widgets.Checkbox(False, description='Drink')\n",
    "\n",
    "br2Label = widgets.Label('-----------------------------------------------------------------------------------------------------', layout=widgets.Layout(width='100%'))\n",
    "\n",
    "expectedPriceLabel = widgets.Label('Expected Average Price:', layout=widgets.Layout(width='100%'))\n",
    "expectedAveragePrice = widgets.IntSlider(min=0, max=100, step=1, description='(Euro): ',value=0)\n",
    "\n",
    "expectedUnitCostLabel = widgets.Label('Expected Average Unit Cost:', layout=widgets.Layout(width='100%'))\n",
    "expectedUnitCost = widgets.IntSlider(min=0, max=100, step=1, description='(Euro): ',value=0)\n",
    "\n",
    "expectedSalesLabel = widgets.Label('Expected Sales Monthly:', layout=widgets.Layout(width='100%'))\n",
    "expectedSales = widgets.IntSlider(min=0, max=10000, step=1, description='(Euro): ',value=0)\n",
    "\n",
    "fixedCostLabel = widgets.Label('Fixed Costs:', layout=widgets.Layout(width='100%'))\n",
    "fixedCost = widgets.FloatText(value=10000, description='(Euro): ',color = 'blue')\n",
    "\n",
    "taxRateLabel = widgets.Label('Tax Rate:', layout=widgets.Layout(width='100%'))\n",
    "taxRate = widgets.FloatSlider(min=0, max=100, step=1, description='%: ',value=0)\n",
    "\n",
    "br3Label = widgets.Label('-----------------------------------------------------------------------------------------------------', layout=widgets.Layout(width='100%'))"
   ]
  },
  {
   "cell_type": "code",
   "execution_count": 39,
   "metadata": {},
   "outputs": [],
   "source": [
    "# create a string list bu considering checkbox widgets\n",
    "def set_service_list():\n",
    "    \n",
    "    # create an empty list\n",
    "    serviceList = []\n",
    "    \n",
    "    # if it is checked\n",
    "    if Dessertbox.value:\n",
    "        # add to the list\n",
    "        serviceList.append('Dessert')\n",
    "    # if it is checked\n",
    "    if Saladbox.value:\n",
    "        # add to the list\n",
    "        serviceList.append('Salad')\n",
    "    # if it is checked\n",
    "    if Drinkbox.value:\n",
    "        # add to the list\n",
    "        serviceList.append('Drink')\n",
    "    \n",
    "    # return the list\n",
    "    return serviceList"
   ]
  },
  {
   "cell_type": "code",
   "execution_count": 41,
   "metadata": {},
   "outputs": [
    {
     "data": {
      "application/vnd.jupyter.widget-view+json": {
       "model_id": "4bd55343b81a46e2a4e7327aea62e226",
       "version_major": 2,
       "version_minor": 0
      },
      "text/plain": [
       "Label(value='-------------------------->  RESTAURANT SIMULATOR PROGRAM  <--------------------------', layout=L…"
      ]
     },
     "metadata": {},
     "output_type": "display_data"
    },
    {
     "data": {
      "application/vnd.jupyter.widget-view+json": {
       "model_id": "915f951737574142b8ce5c9c3deb2fc6",
       "version_major": 2,
       "version_minor": 0
      },
      "text/plain": [
       "Text(value='Example LTD', description='Comp. Name', layout=Layout(width='50%'))"
      ]
     },
     "metadata": {},
     "output_type": "display_data"
    },
    {
     "data": {
      "application/vnd.jupyter.widget-view+json": {
       "model_id": "38686668ef5e47b692973bb81c322eb4",
       "version_major": 2,
       "version_minor": 0
      },
      "text/plain": [
       "Text(value='48.8566', description='Longitude', layout=Layout(width='30%'))"
      ]
     },
     "metadata": {},
     "output_type": "display_data"
    },
    {
     "data": {
      "application/vnd.jupyter.widget-view+json": {
       "model_id": "1c3e52a25d7f4089a500a1e73f58e8c4",
       "version_major": 2,
       "version_minor": 0
      },
      "text/plain": [
       "Text(value='2.3522', description='Latitude', layout=Layout(width='30%'))"
      ]
     },
     "metadata": {},
     "output_type": "display_data"
    },
    {
     "data": {
      "application/vnd.jupyter.widget-view+json": {
       "model_id": "0c29ad35cc044665b8e88441d39911dd",
       "version_major": 2,
       "version_minor": 0
      },
      "text/plain": [
       "Label(value='-------------------------------------------------------------------------------------------------…"
      ]
     },
     "metadata": {},
     "output_type": "display_data"
    },
    {
     "data": {
      "application/vnd.jupyter.widget-view+json": {
       "model_id": "0edcad8761664eaba94d62f7071f4aa0",
       "version_major": 2,
       "version_minor": 0
      },
      "text/plain": [
       "Label(value='Select Services:', layout=Layout(width='100%'))"
      ]
     },
     "metadata": {},
     "output_type": "display_data"
    },
    {
     "data": {
      "application/vnd.jupyter.widget-view+json": {
       "model_id": "208ded6c32e84d8e9748a1a1619c57de",
       "version_major": 2,
       "version_minor": 0
      },
      "text/plain": [
       "Checkbox(value=False, description='Dessert')"
      ]
     },
     "metadata": {},
     "output_type": "display_data"
    },
    {
     "data": {
      "application/vnd.jupyter.widget-view+json": {
       "model_id": "f23e451e3c7e44bda16ae9220b27f5ae",
       "version_major": 2,
       "version_minor": 0
      },
      "text/plain": [
       "Checkbox(value=False, description='Salad')"
      ]
     },
     "metadata": {},
     "output_type": "display_data"
    },
    {
     "data": {
      "application/vnd.jupyter.widget-view+json": {
       "model_id": "faf785fbbb734117a757be52fce5d233",
       "version_major": 2,
       "version_minor": 0
      },
      "text/plain": [
       "Checkbox(value=False, description='Drink')"
      ]
     },
     "metadata": {},
     "output_type": "display_data"
    },
    {
     "data": {
      "application/vnd.jupyter.widget-view+json": {
       "model_id": "fbeae5e9c49143c896d7f12d28f7bafb",
       "version_major": 2,
       "version_minor": 0
      },
      "text/plain": [
       "Label(value='-------------------------------------------------------------------------------------------------…"
      ]
     },
     "metadata": {},
     "output_type": "display_data"
    },
    {
     "data": {
      "application/vnd.jupyter.widget-view+json": {
       "model_id": "0e08c2edb5654dc6899be3d1deb2cf2e",
       "version_major": 2,
       "version_minor": 0
      },
      "text/plain": [
       "Label(value='Expected Average Price:', layout=Layout(width='100%'))"
      ]
     },
     "metadata": {},
     "output_type": "display_data"
    },
    {
     "data": {
      "application/vnd.jupyter.widget-view+json": {
       "model_id": "321df70bcc434a3a9dfc476e3b657bea",
       "version_major": 2,
       "version_minor": 0
      },
      "text/plain": [
       "IntSlider(value=0, description='(Euro): ')"
      ]
     },
     "metadata": {},
     "output_type": "display_data"
    },
    {
     "data": {
      "application/vnd.jupyter.widget-view+json": {
       "model_id": "871c76a6d41b4ccbbc83a51ffe01c726",
       "version_major": 2,
       "version_minor": 0
      },
      "text/plain": [
       "Label(value='Expected Average Unit Cost:', layout=Layout(width='100%'))"
      ]
     },
     "metadata": {},
     "output_type": "display_data"
    },
    {
     "data": {
      "application/vnd.jupyter.widget-view+json": {
       "model_id": "d3be41fca15044f1be1c057c94b72a77",
       "version_major": 2,
       "version_minor": 0
      },
      "text/plain": [
       "IntSlider(value=0, description='(Euro): ')"
      ]
     },
     "metadata": {},
     "output_type": "display_data"
    },
    {
     "data": {
      "application/vnd.jupyter.widget-view+json": {
       "model_id": "88fb6e523f734622ba93f8fb730b2909",
       "version_major": 2,
       "version_minor": 0
      },
      "text/plain": [
       "Label(value='Expected Sales Monthly:', layout=Layout(width='100%'))"
      ]
     },
     "metadata": {},
     "output_type": "display_data"
    },
    {
     "data": {
      "application/vnd.jupyter.widget-view+json": {
       "model_id": "3ae83a75e7f742748bc01ee8aa92cd60",
       "version_major": 2,
       "version_minor": 0
      },
      "text/plain": [
       "IntSlider(value=0, description='(Euro): ', max=10000)"
      ]
     },
     "metadata": {},
     "output_type": "display_data"
    },
    {
     "data": {
      "application/vnd.jupyter.widget-view+json": {
       "model_id": "5898c66c6106497bae5b189c90a5608e",
       "version_major": 2,
       "version_minor": 0
      },
      "text/plain": [
       "Label(value='Fixed Costs:', layout=Layout(width='100%'))"
      ]
     },
     "metadata": {},
     "output_type": "display_data"
    },
    {
     "data": {
      "application/vnd.jupyter.widget-view+json": {
       "model_id": "1ce34d8b27694159ad2f6db4d0af5b1d",
       "version_major": 2,
       "version_minor": 0
      },
      "text/plain": [
       "FloatText(value=10000.0, description='(Euro): ')"
      ]
     },
     "metadata": {},
     "output_type": "display_data"
    },
    {
     "data": {
      "application/vnd.jupyter.widget-view+json": {
       "model_id": "5716d4dbdccf4f12a43fedc7f329035f",
       "version_major": 2,
       "version_minor": 0
      },
      "text/plain": [
       "Label(value='Tax Rate:', layout=Layout(width='100%'))"
      ]
     },
     "metadata": {},
     "output_type": "display_data"
    },
    {
     "data": {
      "application/vnd.jupyter.widget-view+json": {
       "model_id": "8a685d58efb94293b7132e7d2a1f5ddd",
       "version_major": 2,
       "version_minor": 0
      },
      "text/plain": [
       "FloatSlider(value=0.0, description='%: ', step=1.0)"
      ]
     },
     "metadata": {},
     "output_type": "display_data"
    },
    {
     "data": {
      "application/vnd.jupyter.widget-view+json": {
       "model_id": "c0f64c93cb484b3e9d48ba8da9e410cd",
       "version_major": 2,
       "version_minor": 0
      },
      "text/plain": [
       "Label(value='-------------------------------------------------------------------------------------------------…"
      ]
     },
     "metadata": {},
     "output_type": "display_data"
    }
   ],
   "source": [
    "# display the widgets \n",
    "display(programLabel)\n",
    "\n",
    "display(companyName)\n",
    "display(longitude)\n",
    "display(latitude)\n",
    "\n",
    "display(br1Label)\n",
    "\n",
    "display(servicesLabel)\n",
    "display(Dessertbox)\n",
    "display(Saladbox)\n",
    "display(Drinkbox)\n",
    "\n",
    "display(br2Label)\n",
    "\n",
    "display(expectedPriceLabel)\n",
    "display(expectedAveragePrice)\n",
    "\n",
    "display(expectedUnitCostLabel)\n",
    "display(expectedUnitCost)\n",
    "\n",
    "display(expectedSalesLabel)\n",
    "display(expectedSales)\n",
    "\n",
    "display(fixedCostLabel)\n",
    "display(fixedCost)\n",
    "\n",
    "display(taxRateLabel)\n",
    "display(taxRate)\n",
    "\n",
    "display(br3Label)\n"
   ]
  },
  {
   "cell_type": "code",
   "execution_count": 42,
   "metadata": {},
   "outputs": [
    {
     "name": "stdout",
     "output_type": "stream",
     "text": [
      "\n",
      "        \n",
      "                    ==========  EE393 LTD's MONTHLY INCOME STATEMENT  ==========\n",
      "                   +------------------------------------------------------\n",
      "                   | Unit Price    : 46\n",
      "                   | Unit Cost     : 13\n",
      "                   +------------------\n",
      "                   | Contribution Margin : 33\n",
      "                   | Sales Volume        : 4548\n",
      "                   | Revenue             : 209208 (Monthly)\n",
      "                   +------------------\n",
      "                   | Cost of Goods Sold  : 59124 (Monthly)\n",
      "                   | Total Fixed Cost    : 25256.0 (Monthly)\n",
      "                   | Total Cost          : 84380.0\n",
      "                   +------------------\n",
      "                   | Gross Margin        : 150084\n",
      "                   | Taxes               : 24013.44\n",
      "                   +------------------\n",
      "                   | NET INCOME          : 126070.56\n",
      "                   +------------------------------------------------------\n",
      "                    \n",
      "                    \n",
      "        \n"
     ]
    }
   ],
   "source": [
    "# create a company object\n",
    "company = Company(companyName.value,longitude.value,latitude.value,set_service_list(),expectedAveragePrice.value,expectedUnitCost.value,expectedSales.value,fixedCost.value,taxRate.value)\n",
    "# print income statement\n",
    "company.print_income_statement()\n",
    "\n",
    "\n",
    "\n",
    "\n",
    "\n",
    "\n"
   ]
  },
  {
   "cell_type": "code",
   "execution_count": null,
   "metadata": {},
   "outputs": [],
   "source": []
  },
  {
   "cell_type": "code",
   "execution_count": null,
   "metadata": {},
   "outputs": [],
   "source": []
  },
  {
   "cell_type": "code",
   "execution_count": null,
   "metadata": {},
   "outputs": [],
   "source": []
  }
 ],
 "metadata": {
  "kernelspec": {
   "display_name": "Python 3",
   "language": "python",
   "name": "python3"
  },
  "language_info": {
   "codemirror_mode": {
    "name": "ipython",
    "version": 3
   },
   "file_extension": ".py",
   "mimetype": "text/x-python",
   "name": "python",
   "nbconvert_exporter": "python",
   "pygments_lexer": "ipython3",
   "version": "3.8.3"
  }
 },
 "nbformat": 4,
 "nbformat_minor": 4
}
