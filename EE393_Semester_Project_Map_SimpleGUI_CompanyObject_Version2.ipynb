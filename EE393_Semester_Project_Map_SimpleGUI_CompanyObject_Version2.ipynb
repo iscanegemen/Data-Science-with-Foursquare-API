{
 "cells": [
  {
   "cell_type": "markdown",
   "metadata": {},
   "source": [
    "| Name  | Surname   | Student No  | Department  |\n",
    "|---|---|---|---|\n",
    "| Emin  | Kartci  | S014877  | EE Engineering  |"
   ]
  },
  {
   "cell_type": "markdown",
   "metadata": {},
   "source": [
    "## Emin Kartci\n",
    "#### Student ID: S014877\n",
    "#### Department  : Electrical & Electronics Engineering\n",
    "---\n",
    "### Semester Project - Foursquare & Restaurant Report\n",
    "---\n",
    "#### This module is prepared for GUI\n",
    "---\n",
    "\n"
   ]
  },
  {
   "cell_type": "code",
   "execution_count": 13,
   "metadata": {},
   "outputs": [],
   "source": [
    "# To interact with user use ipywidgets library - Generate a simple GUI\n",
    "from __future__ import print_function\n",
    "from ipywidgets import interact, interactive, fixed, interact_manual\n",
    "import ipywidgets as widgets\n",
    "import matplotlib.pyplot as plt\n",
    "import numpy as np"
   ]
  },
  {
   "cell_type": "code",
   "execution_count": 2,
   "metadata": {},
   "outputs": [],
   "source": [
    "################################-- Function Description --#################################\n",
    "\n",
    "# Purpose:\n",
    "#       This class represents a company. For other modules we will need its values.\n",
    "#    Moreover, creating a class makes simple our code.\n",
    "\n",
    "# PROPERTIES:\n",
    "#   \n",
    "#   From constructor:\n",
    "#   name                -> Name of the company                (String)\n",
    "#   longitude           -> To represent at the map            (String)\n",
    "#   latitude            -> To represent at the map            (String)\n",
    "#   servicesList        -> To compare with others             (List)\n",
    "#   averagePrice        -> For income statement - Simulation  (Float)\n",
    "#   averageUnitCost     -> For incoma statement - Simulation  (Float)\n",
    "#   salesVolume         -> For incoma statement - Simulation  (Float)\n",
    "#   fixedCost           -> For incoma statement - Simulation  (Float)\n",
    "#   taxRate             -> For incoma statement - Simulation  (Float)\n",
    "#\n",
    "#   Calculate:\n",
    "#\n",
    "#   contributionMargin  -> For incoma statement - Simulation  (Float)\n",
    "#   revenue             -> For incoma statement - Simulation  (Float)\n",
    "#   costOfGoodSold      -> For incoma statement - Simulation  (Float)\n",
    "#   grossMargin         -> For incoma statement - Simulation  (Float)\n",
    "#   taxes               -> For incoma statement - Simulation  (Float)\n",
    "#   netIncome           -> For incoma statement - Simulation  (Float)\n",
    "#\n",
    "\n",
    "\n",
    "# BEHAVIOUR:\n",
    "#   \n",
    "#   print_company_description -> prints the company inputs to the console\n",
    "#   print_income_statement    -> prints the income statemnt to the console\n",
    "\n",
    "#################################-- END Function Description --##############################\n",
    "\n",
    "\n",
    "# Create a Company class\n",
    "class Company():\n",
    "    \n",
    "    # Constuctor\n",
    "    def __init__(self, name,longitude,latitude,servicesList,averagePrice,averageUnitCost,salesVolume,fixedCost,taxRate):\n",
    "        \n",
    "        \n",
    "        \n",
    "        self.name            = name\n",
    "        self.longitude       = longitude\n",
    "        self.latitude        = latitude\n",
    "        self.servicesList    = servicesList\n",
    "        \n",
    "        self.averagePrice    = averagePrice\n",
    "        self.averageUnitCost = averageUnitCost\n",
    "        self.salesVolume     = salesVolume\n",
    "        self.fixedCost       = fixedCost\n",
    "        self.taxRate         = taxRate/100\n",
    "        \n",
    "        # calculate remain properties\n",
    "        self.contributionMargin   = self.calculate_contribution_margin()\n",
    "        self.revenue              = self.calculate_revenue()\n",
    "        self.costOfGoodSold       = self.calculate_COGS()\n",
    "        self.totalCost            = self.calculate_total_cost()\n",
    "        self.grossMargin          = self.calculate_gross_margin()\n",
    "        self.taxes                = self.calculate_taxes()\n",
    "        self.netIncome            = self.calculate_net_income()\n",
    "        \n",
    "        \n",
    "        \n",
    "    def calculate_contribution_margin(self):\n",
    "        \n",
    "        return self.averagePrice - self.averageUnitCost\n",
    "    \n",
    "    def calculate_revenue(self):\n",
    "        \n",
    "        return self.averagePrice * self.salesVolume\n",
    "    \n",
    "    def calculate_COGS(self):\n",
    "        \n",
    "        return self.salesVolume * self.averageUnitCost\n",
    "    \n",
    "    def calculate_gross_margin(self):\n",
    "    \n",
    "        return self.revenue - self.costOfGoodSold\n",
    "    \n",
    "    def calculate_taxes(self):\n",
    "    \n",
    "        return self.grossMargin * self.taxRate\n",
    "    \n",
    "    def calculate_net_income(self):\n",
    "    \n",
    "        return self.grossMargin - self.taxes\n",
    "    \n",
    "    def calculate_total_cost(self):\n",
    "    \n",
    "        return self.costOfGoodSold + self.fixedCost\n",
    "    \n",
    "    \n",
    "    ########################################################################\n",
    "    \n",
    "    def print_company_description(self):\n",
    "        \n",
    "        companyDescription = \"\"\"\n",
    "            \n",
    "            Company Name: {}\n",
    "            \n",
    "            Location:\n",
    "                - Longitude : {}° N\n",
    "                - Latitude  : {}° E\n",
    "                \n",
    "            Services:\n",
    "                {}\n",
    "            Average Price      : {}\n",
    "            Average Unit Cost  : {}\n",
    "            \n",
    "            Sales Volume       : {}\n",
    "            \n",
    "            Fixed Cost         : {}\n",
    "            \n",
    "            Tax Rate           : {}\n",
    "            \n",
    "        \n",
    "        \"\"\".format(self.name,self.longitude,self.latitude,self.set_services_string(),self.averagePrice,self.averageUnitCost,self.salesVolume,self.fixedCost,self.taxRate)\n",
    "        \n",
    "        print(companyDescription)\n",
    "        \n",
    "    def set_services_string(self):\n",
    "        \n",
    "        \n",
    "        serviesString = \"\"\n",
    "        \n",
    "        for index in range(1,len(self.servicesList)+1):\n",
    "            \n",
    "            serviesString += \"{} - {}\\n\\t\\t\".format(index,self.servicesList[index-1])\n",
    "            \n",
    "            \n",
    "        return serviesString\n",
    "    \n",
    "    def print_income_statement(self):\n",
    "        \n",
    "        incomeStatementStr = \"\"\"\n",
    "        \n",
    "                    ==========  {}'s MONTHLY INCOME STATEMENT  ==========\n",
    "                   +------------------------------------------------------\n",
    "                   | Unit Price    : {}\n",
    "                   | Unit Cost     : {}\n",
    "                   +------------------\n",
    "                   | Contribution Margin : {}\n",
    "                   | Sales Volume        : {}\n",
    "                   | Revenue             : {} (Monthly)\n",
    "                   +------------------\n",
    "                   | Cost of Goods Sold  : {} (Monthly)\n",
    "                   | Total Fixed Cost    : {} (Monthly)\n",
    "                   | Total Cost          : {}\n",
    "                   +------------------\n",
    "                   | Gross Margin        : {}\n",
    "                   | Taxes               : {}\n",
    "                   +------------------\n",
    "                   | NET INCOME          : {}\n",
    "                   +------------------------------------------------------\n",
    "                    \n",
    "                    \n",
    "        \"\"\".format(self.name,self.averagePrice,self.averageUnitCost,self.contributionMargin,self.salesVolume,self.revenue\n",
    "                   ,self.costOfGoodSold,self.fixedCost,self.totalCost,self.grossMargin,self.taxes,self.netIncome)\n",
    "        \n",
    "        print(incomeStatementStr)\n",
    "    \n",
    "    \n",
    "    "
   ]
  },
  {
   "cell_type": "code",
   "execution_count": 3,
   "metadata": {},
   "outputs": [],
   "source": [
    "programLabel = widgets.Label('-------------------------->  RESTAURANT SIMULATOR PROGRAM  <--------------------------', layout=widgets.Layout(width='100%'))\n",
    "\n",
    "companyName = widgets.Text(description=\"Comp. Name\",value=\"Example LTD\",layout=widgets.Layout(width=\"50%\"))\n",
    "longitude = widgets.Text(description=\"Longitude\",value=\"48.8566\",layout=widgets.Layout(width=\"30%\"))\n",
    "latitude = widgets.Text(description=\"Latitude\",value=\"2.3522\",layout=widgets.Layout(width=\"30%\"))\n",
    "\n",
    "br1Label = widgets.Label('-----------------------------------------------------------------------------------------------------', layout=widgets.Layout(width='100%'))\n",
    "\n",
    "servicesLabel = widgets.Label('Select Services:', layout=widgets.Layout(width='100%'))\n",
    "Dessertbox = widgets.Checkbox(False, description='Dessert')\n",
    "Saladbox = widgets.Checkbox(False, description='Salad')\n",
    "Drinkbox = widgets.Checkbox(False, description='Drink')\n",
    "\n",
    "br2Label = widgets.Label('-----------------------------------------------------------------------------------------------------', layout=widgets.Layout(width='100%'))\n",
    "\n",
    "expectedPriceLabel = widgets.Label('Expected Average Price:', layout=widgets.Layout(width='100%'))\n",
    "expectedAveragePrice = widgets.IntSlider(min=0, max=100, step=1, description='(Euro): ',value=0)\n",
    "\n",
    "expectedUnitCostLabel = widgets.Label('Expected Average Unit Cost:', layout=widgets.Layout(width='100%'))\n",
    "expectedUnitCost = widgets.IntSlider(min=0, max=100, step=1, description='(Euro): ',value=0)\n",
    "\n",
    "expectedSalesLabel = widgets.Label('Expected Sales Monthly:', layout=widgets.Layout(width='100%'))\n",
    "expectedSales = widgets.IntSlider(min=0, max=10000, step=1, description='(Euro): ',value=0)\n",
    "\n",
    "fixedCostLabel = widgets.Label('Fixed Costs:', layout=widgets.Layout(width='100%'))\n",
    "fixedCost = widgets.FloatText(value=10000, description='(Euro): ',color = 'blue')\n",
    "\n",
    "taxRateLabel = widgets.Label('Tax Rate:', layout=widgets.Layout(width='100%'))\n",
    "taxRate = widgets.FloatSlider(min=0, max=100, step=1, description='%: ',value=0)\n",
    "\n",
    "br3Label = widgets.Label('-----------------------------------------------------------------------------------------------------', layout=widgets.Layout(width='100%'))"
   ]
  },
  {
   "cell_type": "code",
   "execution_count": 4,
   "metadata": {},
   "outputs": [],
   "source": [
    "# create a string list bu considering checkbox widgets\n",
    "def set_service_list():\n",
    "    \n",
    "    # create an empty list\n",
    "    serviceList = []\n",
    "    \n",
    "    # if it is checked\n",
    "    if Dessertbox.value:\n",
    "        # add to the list\n",
    "        serviceList.append('Dessert')\n",
    "    # if it is checked\n",
    "    if Saladbox.value:\n",
    "        # add to the list\n",
    "        serviceList.append('Salad')\n",
    "    # if it is checked\n",
    "    if Drinkbox.value:\n",
    "        # add to the list\n",
    "        serviceList.append('Drink')\n",
    "    \n",
    "    # return the list\n",
    "    return serviceList"
   ]
  },
  {
   "cell_type": "code",
   "execution_count": 5,
   "metadata": {},
   "outputs": [
    {
     "data": {
      "application/vnd.jupyter.widget-view+json": {
       "model_id": "7759db60e98548a58eba298b039cd3ee",
       "version_major": 2,
       "version_minor": 0
      },
      "text/plain": [
       "Label(value='-------------------------->  RESTAURANT SIMULATOR PROGRAM  <--------------------------', layout=L…"
      ]
     },
     "metadata": {},
     "output_type": "display_data"
    },
    {
     "data": {
      "application/vnd.jupyter.widget-view+json": {
       "model_id": "3d9b5d62d4f64e2a936dc6526bd2df07",
       "version_major": 2,
       "version_minor": 0
      },
      "text/plain": [
       "Text(value='Example LTD', description='Comp. Name', layout=Layout(width='50%'))"
      ]
     },
     "metadata": {},
     "output_type": "display_data"
    },
    {
     "data": {
      "application/vnd.jupyter.widget-view+json": {
       "model_id": "1a77e3aadc314b82ab68ee7bb05aa661",
       "version_major": 2,
       "version_minor": 0
      },
      "text/plain": [
       "Text(value='48.8566', description='Longitude', layout=Layout(width='30%'))"
      ]
     },
     "metadata": {},
     "output_type": "display_data"
    },
    {
     "data": {
      "application/vnd.jupyter.widget-view+json": {
       "model_id": "0676942750254beca573a0d61f2fadfc",
       "version_major": 2,
       "version_minor": 0
      },
      "text/plain": [
       "Text(value='2.3522', description='Latitude', layout=Layout(width='30%'))"
      ]
     },
     "metadata": {},
     "output_type": "display_data"
    },
    {
     "data": {
      "application/vnd.jupyter.widget-view+json": {
       "model_id": "272507099d8942eca8a7ea193b4bbe31",
       "version_major": 2,
       "version_minor": 0
      },
      "text/plain": [
       "Label(value='-------------------------------------------------------------------------------------------------…"
      ]
     },
     "metadata": {},
     "output_type": "display_data"
    },
    {
     "data": {
      "application/vnd.jupyter.widget-view+json": {
       "model_id": "136a362397fb4690af19c5903e7b36ef",
       "version_major": 2,
       "version_minor": 0
      },
      "text/plain": [
       "Label(value='Select Services:', layout=Layout(width='100%'))"
      ]
     },
     "metadata": {},
     "output_type": "display_data"
    },
    {
     "data": {
      "application/vnd.jupyter.widget-view+json": {
       "model_id": "7266a7232bf743adbcf9ecfa72113b60",
       "version_major": 2,
       "version_minor": 0
      },
      "text/plain": [
       "Checkbox(value=False, description='Dessert')"
      ]
     },
     "metadata": {},
     "output_type": "display_data"
    },
    {
     "data": {
      "application/vnd.jupyter.widget-view+json": {
       "model_id": "a3402bf3719a456ab51e3f7f1ec58635",
       "version_major": 2,
       "version_minor": 0
      },
      "text/plain": [
       "Checkbox(value=False, description='Salad')"
      ]
     },
     "metadata": {},
     "output_type": "display_data"
    },
    {
     "data": {
      "application/vnd.jupyter.widget-view+json": {
       "model_id": "e6db88be964242e4b8c21bd4a775af5c",
       "version_major": 2,
       "version_minor": 0
      },
      "text/plain": [
       "Checkbox(value=False, description='Drink')"
      ]
     },
     "metadata": {},
     "output_type": "display_data"
    },
    {
     "data": {
      "application/vnd.jupyter.widget-view+json": {
       "model_id": "aae19bd69d2f4f80a49cc7551d644db0",
       "version_major": 2,
       "version_minor": 0
      },
      "text/plain": [
       "Label(value='-------------------------------------------------------------------------------------------------…"
      ]
     },
     "metadata": {},
     "output_type": "display_data"
    },
    {
     "data": {
      "application/vnd.jupyter.widget-view+json": {
       "model_id": "07fb9d75c5574b5b9839c9c535363201",
       "version_major": 2,
       "version_minor": 0
      },
      "text/plain": [
       "Label(value='Expected Average Price:', layout=Layout(width='100%'))"
      ]
     },
     "metadata": {},
     "output_type": "display_data"
    },
    {
     "data": {
      "application/vnd.jupyter.widget-view+json": {
       "model_id": "ecd15960dd9b4e29b3a583e965cc0ad6",
       "version_major": 2,
       "version_minor": 0
      },
      "text/plain": [
       "IntSlider(value=0, description='(Euro): ')"
      ]
     },
     "metadata": {},
     "output_type": "display_data"
    },
    {
     "data": {
      "application/vnd.jupyter.widget-view+json": {
       "model_id": "c308ed62e16d44a1a9be38a32b236619",
       "version_major": 2,
       "version_minor": 0
      },
      "text/plain": [
       "Label(value='Expected Average Unit Cost:', layout=Layout(width='100%'))"
      ]
     },
     "metadata": {},
     "output_type": "display_data"
    },
    {
     "data": {
      "application/vnd.jupyter.widget-view+json": {
       "model_id": "cdf3ad18989e4cdf911d44e44240b7b7",
       "version_major": 2,
       "version_minor": 0
      },
      "text/plain": [
       "IntSlider(value=0, description='(Euro): ')"
      ]
     },
     "metadata": {},
     "output_type": "display_data"
    },
    {
     "data": {
      "application/vnd.jupyter.widget-view+json": {
       "model_id": "0562207d4cbe4b10876d501fceaba732",
       "version_major": 2,
       "version_minor": 0
      },
      "text/plain": [
       "Label(value='Expected Sales Monthly:', layout=Layout(width='100%'))"
      ]
     },
     "metadata": {},
     "output_type": "display_data"
    },
    {
     "data": {
      "application/vnd.jupyter.widget-view+json": {
       "model_id": "3406c17b1ee34f2eacb3c02f33460fd2",
       "version_major": 2,
       "version_minor": 0
      },
      "text/plain": [
       "IntSlider(value=0, description='(Euro): ', max=10000)"
      ]
     },
     "metadata": {},
     "output_type": "display_data"
    },
    {
     "data": {
      "application/vnd.jupyter.widget-view+json": {
       "model_id": "1eb8b7114c404ee1b45d2d1c9dbe2ad0",
       "version_major": 2,
       "version_minor": 0
      },
      "text/plain": [
       "Label(value='Fixed Costs:', layout=Layout(width='100%'))"
      ]
     },
     "metadata": {},
     "output_type": "display_data"
    },
    {
     "data": {
      "application/vnd.jupyter.widget-view+json": {
       "model_id": "dab8efe9597848169dd343dda5b3e436",
       "version_major": 2,
       "version_minor": 0
      },
      "text/plain": [
       "FloatText(value=10000.0, description='(Euro): ')"
      ]
     },
     "metadata": {},
     "output_type": "display_data"
    },
    {
     "data": {
      "application/vnd.jupyter.widget-view+json": {
       "model_id": "cafc459435b043d2a4d1d6086eb5fc53",
       "version_major": 2,
       "version_minor": 0
      },
      "text/plain": [
       "Label(value='Tax Rate:', layout=Layout(width='100%'))"
      ]
     },
     "metadata": {},
     "output_type": "display_data"
    },
    {
     "data": {
      "application/vnd.jupyter.widget-view+json": {
       "model_id": "ed05ab4849104bbebe836c534b770315",
       "version_major": 2,
       "version_minor": 0
      },
      "text/plain": [
       "FloatSlider(value=0.0, description='%: ', step=1.0)"
      ]
     },
     "metadata": {},
     "output_type": "display_data"
    },
    {
     "data": {
      "application/vnd.jupyter.widget-view+json": {
       "model_id": "5d4b0d68fd09443492dcbb8b74832e1f",
       "version_major": 2,
       "version_minor": 0
      },
      "text/plain": [
       "Label(value='-------------------------------------------------------------------------------------------------…"
      ]
     },
     "metadata": {},
     "output_type": "display_data"
    }
   ],
   "source": [
    "# display the widgets \n",
    "display(programLabel)\n",
    "\n",
    "display(companyName)\n",
    "display(longitude)\n",
    "display(latitude)\n",
    "\n",
    "display(br1Label)\n",
    "\n",
    "display(servicesLabel)\n",
    "display(Dessertbox)\n",
    "display(Saladbox)\n",
    "display(Drinkbox)\n",
    "\n",
    "display(br2Label)\n",
    "\n",
    "display(expectedPriceLabel)\n",
    "display(expectedAveragePrice)\n",
    "\n",
    "display(expectedUnitCostLabel)\n",
    "display(expectedUnitCost)\n",
    "\n",
    "display(expectedSalesLabel)\n",
    "display(expectedSales)\n",
    "\n",
    "display(fixedCostLabel)\n",
    "display(fixedCost)\n",
    "\n",
    "display(taxRateLabel)\n",
    "display(taxRate)\n",
    "\n",
    "display(br3Label)\n"
   ]
  },
  {
   "cell_type": "code",
   "execution_count": 7,
   "metadata": {},
   "outputs": [
    {
     "name": "stdout",
     "output_type": "stream",
     "text": [
      "\n",
      "        \n",
      "                    ==========  Example LTD's MONTHLY INCOME STATEMENT  ==========\n",
      "                   +------------------------------------------------------\n",
      "                   | Unit Price    : 24\n",
      "                   | Unit Cost     : 12\n",
      "                   +------------------\n",
      "                   | Contribution Margin : 12\n",
      "                   | Sales Volume        : 4306\n",
      "                   | Revenue             : 103344 (Monthly)\n",
      "                   +------------------\n",
      "                   | Cost of Goods Sold  : 51672 (Monthly)\n",
      "                   | Total Fixed Cost    : 10000.0 (Monthly)\n",
      "                   | Total Cost          : 61672.0\n",
      "                   +------------------\n",
      "                   | Gross Margin        : 51672\n",
      "                   | Taxes               : 8267.52\n",
      "                   +------------------\n",
      "                   | NET INCOME          : 43404.479999999996\n",
      "                   +------------------------------------------------------\n",
      "                    \n",
      "                    \n",
      "        \n"
     ]
    },
    {
     "ename": "AttributeError",
     "evalue": "'Company' object has no attribute 'plotting_price_cost'",
     "output_type": "error",
     "traceback": [
      "\u001b[1;31m---------------------------------------------------------------------------\u001b[0m",
      "\u001b[1;31mAttributeError\u001b[0m                            Traceback (most recent call last)",
      "\u001b[1;32m<ipython-input-7-4b9db55f8896>\u001b[0m in \u001b[0;36m<module>\u001b[1;34m\u001b[0m\n\u001b[0;32m      4\u001b[0m \u001b[0mcompany\u001b[0m\u001b[1;33m.\u001b[0m\u001b[0mprint_income_statement\u001b[0m\u001b[1;33m(\u001b[0m\u001b[1;33m)\u001b[0m\u001b[1;33m\u001b[0m\u001b[1;33m\u001b[0m\u001b[0m\n\u001b[0;32m      5\u001b[0m \u001b[1;33m\u001b[0m\u001b[0m\n\u001b[1;32m----> 6\u001b[1;33m \u001b[0mcompany\u001b[0m\u001b[1;33m.\u001b[0m\u001b[0mplotting_price_cost\u001b[0m\u001b[1;33m(\u001b[0m\u001b[1;33m)\u001b[0m\u001b[1;33m\u001b[0m\u001b[1;33m\u001b[0m\u001b[0m\n\u001b[0m\u001b[0;32m      7\u001b[0m \u001b[1;33m\u001b[0m\u001b[0m\n\u001b[0;32m      8\u001b[0m \u001b[1;33m\u001b[0m\u001b[0m\n",
      "\u001b[1;31mAttributeError\u001b[0m: 'Company' object has no attribute 'plotting_price_cost'"
     ]
    }
   ],
   "source": [
    "# create a company object\n",
    "company = Company(companyName.value,longitude.value,latitude.value,set_service_list(),expectedAveragePrice.value,expectedUnitCost.value,expectedSales.value,fixedCost.value,taxRate.value)\n",
    "# print income statement\n",
    "company.print_income_statement()\n",
    "\n",
    "company.plotting_price_cost()\n",
    "\n",
    "\n",
    "\n",
    "\n"
   ]
  },
  {
   "cell_type": "code",
   "execution_count": null,
   "metadata": {},
   "outputs": [],
   "source": []
  },
  {
   "cell_type": "code",
   "execution_count": null,
   "metadata": {},
   "outputs": [],
   "source": []
  },
  {
   "cell_type": "code",
   "execution_count": 12,
   "metadata": {},
   "outputs": [
    {
     "data": {
      "image/png": "[encoded data removed]",
      "text/plain": [
       "<Figure size 432x288 with 1 Axes>"
      ]
     },
     "metadata": {
      "needs_background": "light"
     },
     "output_type": "display_data"
    }
   ],
   "source": [
    "plt.plot(self.priceList, \"g--\")\n",
    "plt.plot(self.costList, \"o--\")\n",
    "plt.axhline(y=0, color='r', \n",
    "            linewidth=0.5, linestyle='-')\n",
    "plt.axvline(x=0, color='r', \n",
    "            linewidth=0.5, linestyle='-')\n",
    "plt.xlabel(\"Price\"); plt.ylabel(\"Cost\")\n",
    "plt.legend([\"Corresponding Cost\",\"Price\"])\n",
    "plt.title(\"Price vs. Cost\")\n",
    "plt.grid()\n",
    "plt.show()"
   ]
  },
  {
   "cell_type": "code",
   "execution_count": 15,
   "metadata": {},
   "outputs": [
    {
     "data": {
      "image/png": "[encoded data removed]",
      "text/plain": [
       "<Figure size 432x288 with 1 Axes>"
      ]
     },
     "metadata": {
      "needs_background": "light"
     },
     "output_type": "display_data"
    }
   ],
   "source": [
    "x_labels = [\"PROFIT\", \"Avg Price\", \"Avg Cost\", \"Contribution Margin\", \"Sales Vol\"]\n",
    "plt.bar(x_labels, [96, 21.31, 10.53, 10.78, 899], color = \"g\")\n",
    "plt.legend([\"Profit is shown as %, e.g, 96%\"])\n",
    "plt.show()"
   ]
  },
  {
   "cell_type": "code",
   "execution_count": null,
   "metadata": {},
   "outputs": [],
   "source": []
  }
 ],
 "metadata": {
  "kernelspec": {
   "display_name": "Python 3",
   "language": "python",
   "name": "python3"
  },
  "language_info": {
   "codemirror_mode": {
    "name": "ipython",
    "version": 3
   },
   "file_extension": ".py",
   "mimetype": "text/x-python",
   "name": "python",
   "nbconvert_exporter": "python",
   "pygments_lexer": "ipython3",
   "version": "3.8.5"
  }
 },
 "nbformat": 4,
 "nbformat_minor": 4
}
